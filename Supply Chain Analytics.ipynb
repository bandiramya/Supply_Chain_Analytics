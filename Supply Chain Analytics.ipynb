{
  "cells": [
    {
      "cell_type": "markdown",
      "metadata": {
        "id": "YmIzOhynJPfm"
      },
      "source": [
        "loading and exploring the dataset  [supply_chain_data dataset](https://1drv.ms/x/c/060d2f6ab0166614/ERPdM818HKlFvI-fgtTQKK8BRoy0b-lDHflGeCihmmLhtA?e=ZqXwnl)"
      ]
    },
    {
      "cell_type": "code",
      "execution_count": null,
      "metadata": {
        "colab": {
          "base_uri": "https://localhost:8080/"
        },
        "id": "MHzQtklIG9Zv",
        "outputId": "f32652af-1977-4fe3-c1a7-15ee6bdf37dd"
      },
      "outputs": [
        {
          "name": "stdout",
          "output_type": "stream",
          "text": [
            "<class 'pandas.core.frame.DataFrame'>\n",
            "RangeIndex: 100 entries, 0 to 99\n",
            "Data columns (total 24 columns):\n",
            " #   Column                   Non-Null Count  Dtype  \n",
            "---  ------                   --------------  -----  \n",
            " 0   Product type             100 non-null    object \n",
            " 1   SKU                      100 non-null    object \n",
            " 2   Price                    100 non-null    float64\n",
            " 3   Availability             100 non-null    int64  \n",
            " 4   Number of products sold  100 non-null    int64  \n",
            " 5   Revenue generated        100 non-null    float64\n",
            " 6   Customer demographics    100 non-null    object \n",
            " 7   Stock levels             100 non-null    int64  \n",
            " 8   Lead times               100 non-null    int64  \n",
            " 9   Order quantities         100 non-null    int64  \n",
            " 10  Shipping times           100 non-null    int64  \n",
            " 11  Shipping carriers        100 non-null    object \n",
            " 12  Shipping costs           100 non-null    float64\n",
            " 13  Supplier name            100 non-null    object \n",
            " 14  Location                 100 non-null    object \n",
            " 15  Lead time                100 non-null    int64  \n",
            " 16  Production volumes       100 non-null    int64  \n",
            " 17  Manufacturing lead time  100 non-null    int64  \n",
            " 18  Manufacturing costs      100 non-null    float64\n",
            " 19  Inspection results       100 non-null    object \n",
            " 20  Defect rates             100 non-null    float64\n",
            " 21  Transportation modes     100 non-null    object \n",
            " 22  Routes                   100 non-null    object \n",
            " 23  Costs                    100 non-null    float64\n",
            "dtypes: float64(6), int64(9), object(9)\n",
            "memory usage: 18.9+ KB\n"
          ]
        },
        {
          "data": {
            "text/plain": [
              "(None,\n",
              "   Product type   SKU      Price  Availability  Number of products sold  \\\n",
              " 0     haircare  SKU0  69.808006            55                      802   \n",
              " 1     skincare  SKU1  14.843523            95                      736   \n",
              " 2     haircare  SKU2  11.319683            34                        8   \n",
              " 3     skincare  SKU3  61.163343            68                       83   \n",
              " 4     skincare  SKU4   4.805496            26                      871   \n",
              " \n",
              "    Revenue generated Customer demographics  Stock levels  Lead times  \\\n",
              " 0        8661.996792            Non-binary            58           7   \n",
              " 1        7460.900065                Female            53          30   \n",
              " 2        9577.749626               Unknown             1          10   \n",
              " 3        7766.836426            Non-binary            23          13   \n",
              " 4        2686.505152            Non-binary             5           3   \n",
              " \n",
              "    Order quantities  ...  Location Lead time  Production volumes  \\\n",
              " 0                96  ...    Mumbai        29                 215   \n",
              " 1                37  ...    Mumbai        23                 517   \n",
              " 2                88  ...    Mumbai        12                 971   \n",
              " 3                59  ...   Kolkata        24                 937   \n",
              " 4                56  ...     Delhi         5                 414   \n",
              " \n",
              "   Manufacturing lead time Manufacturing costs  Inspection results  \\\n",
              " 0                      29           46.279879             Pending   \n",
              " 1                      30           33.616769             Pending   \n",
              " 2                      27           30.688019             Pending   \n",
              " 3                      18           35.624741                Fail   \n",
              " 4                       3           92.065161                Fail   \n",
              " \n",
              "    Defect rates  Transportation modes   Routes       Costs  \n",
              " 0      0.226410                  Road  Route B  187.752075  \n",
              " 1      4.854068                  Road  Route B  503.065579  \n",
              " 2      4.580593                   Air  Route C  141.920282  \n",
              " 3      4.746649                  Rail  Route A  254.776159  \n",
              " 4      3.145580                   Air  Route A  923.440632  \n",
              " \n",
              " [5 rows x 24 columns])"
            ]
          },
          "execution_count": 4,
          "metadata": {},
          "output_type": "execute_result"
        }
      ],
      "source": [
        "import pandas as pd\n",
        "\n",
        "# Load the dataset to inspect its contents\n",
        "file_path = '/content/supply_chain_data.csv'\n",
        "supply_chain_data = pd.read_csv(file_path)\n",
        "\n",
        "# Display basic information and the first few rows to understand the structure of the dataset\n",
        "supply_chain_data.info(), supply_chain_data.head()\n"
      ]
    },
    {
      "cell_type": "markdown",
      "metadata": {
        "id": "tCbbZzG7JYuq"
      },
      "source": [
        "Data Cleaning"
      ]
    },
    {
      "cell_type": "code",
      "execution_count": null,
      "metadata": {
        "colab": {
          "base_uri": "https://localhost:8080/"
        },
        "id": "9Spj2aSpHMcy",
        "outputId": "81478b3c-9c5b-40d1-9d43-91aabe0f69ad"
      },
      "outputs": [
        {
          "name": "stdout",
          "output_type": "stream",
          "text": [
            "Product type               0\n",
            "SKU                        0\n",
            "Price                      0\n",
            "Availability               0\n",
            "Number of products sold    0\n",
            "Revenue generated          0\n",
            "Customer demographics      0\n",
            "Stock levels               0\n",
            "Lead times                 0\n",
            "Order quantities           0\n",
            "Shipping times             0\n",
            "Shipping carriers          0\n",
            "Shipping costs             0\n",
            "Supplier name              0\n",
            "Location                   0\n",
            "Lead time                  0\n",
            "Production volumes         0\n",
            "Manufacturing lead time    0\n",
            "Manufacturing costs        0\n",
            "Inspection results         0\n",
            "Defect rates               0\n",
            "Transportation modes       0\n",
            "Routes                     0\n",
            "Costs                      0\n",
            "dtype: int64\n"
          ]
        }
      ],
      "source": [
        "print(supply_chain_data.isnull().sum())"
      ]
    },
    {
      "cell_type": "markdown",
      "metadata": {
        "id": "FRKOFi5mI_LM"
      },
      "source": [
        "calculated key metrics"
      ]
    },
    {
      "cell_type": "code",
      "execution_count": null,
      "metadata": {
        "colab": {
          "base_uri": "https://localhost:8080/",
          "height": 206
        },
        "id": "AT0YnRAqIfnE",
        "outputId": "73e87628-1e4d-4bdd-abbe-99989b5a0dab"
      },
      "outputs": [
        {
          "data": {
            "application/vnd.google.colaboratory.intrinsic+json": {
              "summary": "{\n  \"name\": \"supply_chain_data[['Product type', 'SKU', 'Inventory Turnover', 'Supplier Performance', 'Cost to Revenue Ratio']]\",\n  \"rows\": 5,\n  \"fields\": [\n    {\n      \"column\": \"Product type\",\n      \"properties\": {\n        \"dtype\": \"category\",\n        \"num_unique_values\": 2,\n        \"samples\": [\n          \"skincare\",\n          \"haircare\"\n        ],\n        \"semantic_type\": \"\",\n        \"description\": \"\"\n      }\n    },\n    {\n      \"column\": \"SKU\",\n      \"properties\": {\n        \"dtype\": \"string\",\n        \"num_unique_values\": 5,\n        \"samples\": [\n          \"SKU1\",\n          \"SKU4\"\n        ],\n        \"semantic_type\": \"\",\n        \"description\": \"\"\n      }\n    },\n    {\n      \"column\": \"Inventory Turnover\",\n      \"properties\": {\n        \"dtype\": \"number\",\n        \"std\": 73.6347186735409,\n        \"min\": 3.608695652173913,\n        \"max\": 174.2,\n        \"num_unique_values\": 5,\n        \"samples\": [\n          13.88679245283019,\n          174.2\n        ],\n        \"semantic_type\": \"\",\n        \"description\": \"\"\n      }\n    },\n    {\n      \"column\": \"Supplier Performance\",\n      \"properties\": {\n        \"dtype\": \"number\",\n        \"std\": 0.06132897107725511,\n        \"min\": 0.008778123260571296,\n        \"max\": 0.15230203463854008,\n        \"num_unique_values\": 5,\n        \"samples\": [\n          0.008957076957553859,\n          0.06358128877310153\n        ],\n        \"semantic_type\": \"\",\n        \"description\": \"\"\n      }\n    },\n    {\n      \"column\": \"Cost to Revenue Ratio\",\n      \"properties\": {\n        \"dtype\": \"number\",\n        \"std\": 0.13990765833534066,\n        \"min\": 0.014817706383575095,\n        \"max\": 0.34373305823483674,\n        \"num_unique_values\": 5,\n        \"samples\": [\n          0.06742692902154654,\n          0.34373305823483674\n        ],\n        \"semantic_type\": \"\",\n        \"description\": \"\"\n      }\n    }\n  ]\n}",
              "type": "dataframe"
            },
            "text/html": [
              "\n",
              "  <div id=\"df-26e51ab5-33e3-4a1d-b487-57f47d9cd383\" class=\"colab-df-container\">\n",
              "    <div>\n",
              "<style scoped>\n",
              "    .dataframe tbody tr th:only-of-type {\n",
              "        vertical-align: middle;\n",
              "    }\n",
              "\n",
              "    .dataframe tbody tr th {\n",
              "        vertical-align: top;\n",
              "    }\n",
              "\n",
              "    .dataframe thead th {\n",
              "        text-align: right;\n",
              "    }\n",
              "</style>\n",
              "<table border=\"1\" class=\"dataframe\">\n",
              "  <thead>\n",
              "    <tr style=\"text-align: right;\">\n",
              "      <th></th>\n",
              "      <th>Product type</th>\n",
              "      <th>SKU</th>\n",
              "      <th>Inventory Turnover</th>\n",
              "      <th>Supplier Performance</th>\n",
              "      <th>Cost to Revenue Ratio</th>\n",
              "    </tr>\n",
              "  </thead>\n",
              "  <tbody>\n",
              "    <tr>\n",
              "      <th>0</th>\n",
              "      <td>haircare</td>\n",
              "      <td>SKU0</td>\n",
              "      <td>13.827586</td>\n",
              "      <td>0.152302</td>\n",
              "      <td>0.021675</td>\n",
              "    </tr>\n",
              "    <tr>\n",
              "      <th>1</th>\n",
              "      <td>skincare</td>\n",
              "      <td>SKU1</td>\n",
              "      <td>13.886792</td>\n",
              "      <td>0.008957</td>\n",
              "      <td>0.067427</td>\n",
              "    </tr>\n",
              "    <tr>\n",
              "      <th>2</th>\n",
              "      <td>haircare</td>\n",
              "      <td>SKU2</td>\n",
              "      <td>8.000000</td>\n",
              "      <td>0.018193</td>\n",
              "      <td>0.014818</td>\n",
              "    </tr>\n",
              "    <tr>\n",
              "      <th>3</th>\n",
              "      <td>skincare</td>\n",
              "      <td>SKU3</td>\n",
              "      <td>3.608696</td>\n",
              "      <td>0.008778</td>\n",
              "      <td>0.032803</td>\n",
              "    </tr>\n",
              "    <tr>\n",
              "      <th>4</th>\n",
              "      <td>skincare</td>\n",
              "      <td>SKU4</td>\n",
              "      <td>174.200000</td>\n",
              "      <td>0.063581</td>\n",
              "      <td>0.343733</td>\n",
              "    </tr>\n",
              "  </tbody>\n",
              "</table>\n",
              "</div>\n",
              "    <div class=\"colab-df-buttons\">\n",
              "\n",
              "  <div class=\"colab-df-container\">\n",
              "    <button class=\"colab-df-convert\" onclick=\"convertToInteractive('df-26e51ab5-33e3-4a1d-b487-57f47d9cd383')\"\n",
              "            title=\"Convert this dataframe to an interactive table.\"\n",
              "            style=\"display:none;\">\n",
              "\n",
              "  <svg xmlns=\"http://www.w3.org/2000/svg\" height=\"24px\" viewBox=\"0 -960 960 960\">\n",
              "    <path d=\"M120-120v-720h720v720H120Zm60-500h600v-160H180v160Zm220 220h160v-160H400v160Zm0 220h160v-160H400v160ZM180-400h160v-160H180v160Zm440 0h160v-160H620v160ZM180-180h160v-160H180v160Zm440 0h160v-160H620v160Z\"/>\n",
              "  </svg>\n",
              "    </button>\n",
              "\n",
              "  <style>\n",
              "    .colab-df-container {\n",
              "      display:flex;\n",
              "      gap: 12px;\n",
              "    }\n",
              "\n",
              "    .colab-df-convert {\n",
              "      background-color: #E8F0FE;\n",
              "      border: none;\n",
              "      border-radius: 50%;\n",
              "      cursor: pointer;\n",
              "      display: none;\n",
              "      fill: #1967D2;\n",
              "      height: 32px;\n",
              "      padding: 0 0 0 0;\n",
              "      width: 32px;\n",
              "    }\n",
              "\n",
              "    .colab-df-convert:hover {\n",
              "      background-color: #E2EBFA;\n",
              "      box-shadow: 0px 1px 2px rgba(60, 64, 67, 0.3), 0px 1px 3px 1px rgba(60, 64, 67, 0.15);\n",
              "      fill: #174EA6;\n",
              "    }\n",
              "\n",
              "    .colab-df-buttons div {\n",
              "      margin-bottom: 4px;\n",
              "    }\n",
              "\n",
              "    [theme=dark] .colab-df-convert {\n",
              "      background-color: #3B4455;\n",
              "      fill: #D2E3FC;\n",
              "    }\n",
              "\n",
              "    [theme=dark] .colab-df-convert:hover {\n",
              "      background-color: #434B5C;\n",
              "      box-shadow: 0px 1px 3px 1px rgba(0, 0, 0, 0.15);\n",
              "      filter: drop-shadow(0px 1px 2px rgba(0, 0, 0, 0.3));\n",
              "      fill: #FFFFFF;\n",
              "    }\n",
              "  </style>\n",
              "\n",
              "    <script>\n",
              "      const buttonEl =\n",
              "        document.querySelector('#df-26e51ab5-33e3-4a1d-b487-57f47d9cd383 button.colab-df-convert');\n",
              "      buttonEl.style.display =\n",
              "        google.colab.kernel.accessAllowed ? 'block' : 'none';\n",
              "\n",
              "      async function convertToInteractive(key) {\n",
              "        const element = document.querySelector('#df-26e51ab5-33e3-4a1d-b487-57f47d9cd383');\n",
              "        const dataTable =\n",
              "          await google.colab.kernel.invokeFunction('convertToInteractive',\n",
              "                                                    [key], {});\n",
              "        if (!dataTable) return;\n",
              "\n",
              "        const docLinkHtml = 'Like what you see? Visit the ' +\n",
              "          '<a target=\"_blank\" href=https://colab.research.google.com/notebooks/data_table.ipynb>data table notebook</a>'\n",
              "          + ' to learn more about interactive tables.';\n",
              "        element.innerHTML = '';\n",
              "        dataTable['output_type'] = 'display_data';\n",
              "        await google.colab.output.renderOutput(dataTable, element);\n",
              "        const docLink = document.createElement('div');\n",
              "        docLink.innerHTML = docLinkHtml;\n",
              "        element.appendChild(docLink);\n",
              "      }\n",
              "    </script>\n",
              "  </div>\n",
              "\n",
              "\n",
              "<div id=\"df-b12b8d3e-d378-4323-9d7e-e15fd3936dc3\">\n",
              "  <button class=\"colab-df-quickchart\" onclick=\"quickchart('df-b12b8d3e-d378-4323-9d7e-e15fd3936dc3')\"\n",
              "            title=\"Suggest charts\"\n",
              "            style=\"display:none;\">\n",
              "\n",
              "<svg xmlns=\"http://www.w3.org/2000/svg\" height=\"24px\"viewBox=\"0 0 24 24\"\n",
              "     width=\"24px\">\n",
              "    <g>\n",
              "        <path d=\"M19 3H5c-1.1 0-2 .9-2 2v14c0 1.1.9 2 2 2h14c1.1 0 2-.9 2-2V5c0-1.1-.9-2-2-2zM9 17H7v-7h2v7zm4 0h-2V7h2v10zm4 0h-2v-4h2v4z\"/>\n",
              "    </g>\n",
              "</svg>\n",
              "  </button>\n",
              "\n",
              "<style>\n",
              "  .colab-df-quickchart {\n",
              "      --bg-color: #E8F0FE;\n",
              "      --fill-color: #1967D2;\n",
              "      --hover-bg-color: #E2EBFA;\n",
              "      --hover-fill-color: #174EA6;\n",
              "      --disabled-fill-color: #AAA;\n",
              "      --disabled-bg-color: #DDD;\n",
              "  }\n",
              "\n",
              "  [theme=dark] .colab-df-quickchart {\n",
              "      --bg-color: #3B4455;\n",
              "      --fill-color: #D2E3FC;\n",
              "      --hover-bg-color: #434B5C;\n",
              "      --hover-fill-color: #FFFFFF;\n",
              "      --disabled-bg-color: #3B4455;\n",
              "      --disabled-fill-color: #666;\n",
              "  }\n",
              "\n",
              "  .colab-df-quickchart {\n",
              "    background-color: var(--bg-color);\n",
              "    border: none;\n",
              "    border-radius: 50%;\n",
              "    cursor: pointer;\n",
              "    display: none;\n",
              "    fill: var(--fill-color);\n",
              "    height: 32px;\n",
              "    padding: 0;\n",
              "    width: 32px;\n",
              "  }\n",
              "\n",
              "  .colab-df-quickchart:hover {\n",
              "    background-color: var(--hover-bg-color);\n",
              "    box-shadow: 0 1px 2px rgba(60, 64, 67, 0.3), 0 1px 3px 1px rgba(60, 64, 67, 0.15);\n",
              "    fill: var(--button-hover-fill-color);\n",
              "  }\n",
              "\n",
              "  .colab-df-quickchart-complete:disabled,\n",
              "  .colab-df-quickchart-complete:disabled:hover {\n",
              "    background-color: var(--disabled-bg-color);\n",
              "    fill: var(--disabled-fill-color);\n",
              "    box-shadow: none;\n",
              "  }\n",
              "\n",
              "  .colab-df-spinner {\n",
              "    border: 2px solid var(--fill-color);\n",
              "    border-color: transparent;\n",
              "    border-bottom-color: var(--fill-color);\n",
              "    animation:\n",
              "      spin 1s steps(1) infinite;\n",
              "  }\n",
              "\n",
              "  @keyframes spin {\n",
              "    0% {\n",
              "      border-color: transparent;\n",
              "      border-bottom-color: var(--fill-color);\n",
              "      border-left-color: var(--fill-color);\n",
              "    }\n",
              "    20% {\n",
              "      border-color: transparent;\n",
              "      border-left-color: var(--fill-color);\n",
              "      border-top-color: var(--fill-color);\n",
              "    }\n",
              "    30% {\n",
              "      border-color: transparent;\n",
              "      border-left-color: var(--fill-color);\n",
              "      border-top-color: var(--fill-color);\n",
              "      border-right-color: var(--fill-color);\n",
              "    }\n",
              "    40% {\n",
              "      border-color: transparent;\n",
              "      border-right-color: var(--fill-color);\n",
              "      border-top-color: var(--fill-color);\n",
              "    }\n",
              "    60% {\n",
              "      border-color: transparent;\n",
              "      border-right-color: var(--fill-color);\n",
              "    }\n",
              "    80% {\n",
              "      border-color: transparent;\n",
              "      border-right-color: var(--fill-color);\n",
              "      border-bottom-color: var(--fill-color);\n",
              "    }\n",
              "    90% {\n",
              "      border-color: transparent;\n",
              "      border-bottom-color: var(--fill-color);\n",
              "    }\n",
              "  }\n",
              "</style>\n",
              "\n",
              "  <script>\n",
              "    async function quickchart(key) {\n",
              "      const quickchartButtonEl =\n",
              "        document.querySelector('#' + key + ' button');\n",
              "      quickchartButtonEl.disabled = true;  // To prevent multiple clicks.\n",
              "      quickchartButtonEl.classList.add('colab-df-spinner');\n",
              "      try {\n",
              "        const charts = await google.colab.kernel.invokeFunction(\n",
              "            'suggestCharts', [key], {});\n",
              "      } catch (error) {\n",
              "        console.error('Error during call to suggestCharts:', error);\n",
              "      }\n",
              "      quickchartButtonEl.classList.remove('colab-df-spinner');\n",
              "      quickchartButtonEl.classList.add('colab-df-quickchart-complete');\n",
              "    }\n",
              "    (() => {\n",
              "      let quickchartButtonEl =\n",
              "        document.querySelector('#df-b12b8d3e-d378-4323-9d7e-e15fd3936dc3 button');\n",
              "      quickchartButtonEl.style.display =\n",
              "        google.colab.kernel.accessAllowed ? 'block' : 'none';\n",
              "    })();\n",
              "  </script>\n",
              "</div>\n",
              "\n",
              "    </div>\n",
              "  </div>\n"
            ],
            "text/plain": [
              "  Product type   SKU  Inventory Turnover  Supplier Performance  \\\n",
              "0     haircare  SKU0           13.827586              0.152302   \n",
              "1     skincare  SKU1           13.886792              0.008957   \n",
              "2     haircare  SKU2            8.000000              0.018193   \n",
              "3     skincare  SKU3            3.608696              0.008778   \n",
              "4     skincare  SKU4          174.200000              0.063581   \n",
              "\n",
              "   Cost to Revenue Ratio  \n",
              "0               0.021675  \n",
              "1               0.067427  \n",
              "2               0.014818  \n",
              "3               0.032803  \n",
              "4               0.343733  "
            ]
          },
          "execution_count": 5,
          "metadata": {},
          "output_type": "execute_result"
        }
      ],
      "source": [
        "# Calculate Inventory Turnover, Supplier Performance (lead time and defect rate), and other key metrics\n",
        "supply_chain_data['Inventory Turnover'] = supply_chain_data['Number of products sold'] / supply_chain_data['Stock levels']\n",
        "supply_chain_data['Supplier Performance'] = (1 / supply_chain_data['Lead time']) * (1 / supply_chain_data['Defect rates'])\n",
        "\n",
        "# Calculate cost to revenue ratio for better cost analysis\n",
        "supply_chain_data['Cost to Revenue Ratio'] = supply_chain_data['Costs'] / supply_chain_data['Revenue generated']\n",
        "\n",
        "# Display the dataset with newly calculated columns\n",
        "supply_chain_data[['Product type', 'SKU', 'Inventory Turnover', 'Supplier Performance', 'Cost to Revenue Ratio']].head()\n"
      ]
    },
    {
      "cell_type": "markdown",
      "metadata": {
        "id": "oIx_lwndlss_"
      },
      "source": [
        "Supplier Performance and Cost Efficiency"
      ]
    },
    {
      "cell_type": "code",
      "execution_count": null,
      "metadata": {
        "colab": {
          "base_uri": "https://localhost:8080/"
        },
        "id": "rk4vVEPWkwIU",
        "outputId": "1da92dca-32d4-4e7e-e3ce-18e0febb71fb"
      },
      "outputs": [
        {
          "data": {
            "text/plain": [
              "(   Supplier name Location  Supplier Performance\n",
              " 21    Supplier 5  Chennai              2.828504\n",
              " 43    Supplier 5   Mumbai              2.685972\n",
              " 74    Supplier 4    Delhi              2.521351\n",
              " 11    Supplier 2  Kolkata              1.687038\n",
              " 17    Supplier 1  Chennai              1.400275,\n",
              "    Supplier name   Location  Supplier Performance\n",
              " 42    Supplier 5  Bangalore              0.007787\n",
              " 55    Supplier 2      Delhi              0.008142\n",
              " 20    Supplier 1    Chennai              0.008149\n",
              " 84    Supplier 5    Chennai              0.008603\n",
              " 3     Supplier 5    Kolkata              0.008778,\n",
              "    Product type    SKU   Location  Cost to Revenue Ratio\n",
              " 91    cosmetics  SKU91      Delhi               0.515076\n",
              " 75     skincare  SKU75    Chennai               0.462200\n",
              " 10     skincare  SKU10    Kolkata               0.345824\n",
              " 42     skincare  SKU42  Bangalore               0.345539\n",
              " 4      skincare   SKU4      Delhi               0.343733,\n",
              "    Product type    SKU Location  Cost to Revenue Ratio\n",
              " 88    cosmetics  SKU88   Mumbai               0.011003\n",
              " 2      haircare   SKU2   Mumbai               0.014818\n",
              " 6      skincare   SKU6  Kolkata               0.017175\n",
              " 67     skincare  SKU67   Mumbai               0.017867\n",
              " 28    cosmetics  SKU28   Mumbai               0.020178)"
            ]
          },
          "execution_count": 6,
          "metadata": {},
          "output_type": "execute_result"
        }
      ],
      "source": [
        "\n",
        "\n",
        "# Supplier Performance - Top and Bottom suppliers based on performance\n",
        "top_suppliers = supply_chain_data[['Supplier name', 'Location', 'Supplier Performance']].sort_values(by='Supplier Performance', ascending=False).head(5)\n",
        "bottom_suppliers = supply_chain_data[['Supplier name', 'Location', 'Supplier Performance']].sort_values(by='Supplier Performance').head(5)\n",
        "\n",
        "# Cost Efficiency - Top products and locations based on Cost to Revenue Ratio\n",
        "high_cost_products = supply_chain_data[['Product type', 'SKU', 'Location', 'Cost to Revenue Ratio']].sort_values(by='Cost to Revenue Ratio', ascending=False).head(5)\n",
        "low_cost_products = supply_chain_data[['Product type', 'SKU', 'Location', 'Cost to Revenue Ratio']].sort_values(by='Cost to Revenue Ratio').head(5)\n",
        "\n",
        "# Displaying the results for both analyses\n",
        "top_suppliers, bottom_suppliers, high_cost_products, low_cost_products\n"
      ]
    },
    {
      "cell_type": "markdown",
      "metadata": {
        "id": "DPj2jLmfmcNc"
      },
      "source": [
        "Inventory Turnover Optimization and Lead Time and Shipping Analysis"
      ]
    },
    {
      "cell_type": "code",
      "execution_count": null,
      "metadata": {
        "colab": {
          "base_uri": "https://localhost:8080/"
        },
        "id": "qYrcWhSYlyeC",
        "outputId": "0d9b1e28-b4ab-4243-d1c1-06f190e2ceb8"
      },
      "outputs": [
        {
          "data": {
            "text/plain": [
              "(   Product type    SKU  Inventory Turnover\n",
              " 68     haircare  SKU68                 inf\n",
              " 34     skincare  SKU34               602.0\n",
              " 47     skincare  SKU47               227.5\n",
              " 78     haircare  SKU78               189.2\n",
              " 4      skincare   SKU4               174.2,\n",
              "    Product type    SKU  Inventory Turnover\n",
              " 45     haircare  SKU45            0.258065\n",
              " 48     haircare  SKU48            0.966667\n",
              " 49    cosmetics  SKU49            1.020619\n",
              " 97     haircare  SKU97            1.347826\n",
              " 89    cosmetics  SKU89            1.488889,\n",
              " 0.029679505782671638)"
            ]
          },
          "execution_count": 7,
          "metadata": {},
          "output_type": "execute_result"
        }
      ],
      "source": [
        "# Inventory Turnover Optimization - Highest and Lowest Turnover products\n",
        "high_turnover_products = supply_chain_data[['Product type', 'SKU', 'Inventory Turnover']].sort_values(by='Inventory Turnover', ascending=False).head(5)\n",
        "low_turnover_products = supply_chain_data[['Product type', 'SKU', 'Inventory Turnover']].sort_values(by='Inventory Turnover').head(5)\n",
        "\n",
        "# Lead Time and Shipping - Correlation between Lead Time and Shipping Cost\n",
        "lead_time_shipping_corr = supply_chain_data[['Lead time', 'Shipping costs']].corr().iloc[0, 1]  # Correlation coefficient between lead time and shipping costs\n",
        "\n",
        "# Displaying the results for both analyses\n",
        "high_turnover_products, low_turnover_products, lead_time_shipping_corr\n"
      ]
    },
    {
      "cell_type": "markdown",
      "metadata": {
        "id": "SUqkmYzVmebC"
      },
      "source": [
        "Predictive Analytics (Demand Forecasting)"
      ]
    },
    {
      "cell_type": "code",
      "execution_count": null,
      "metadata": {
        "colab": {
          "base_uri": "https://localhost:8080/"
        },
        "id": "1D0raXrloGMl",
        "outputId": "a16ab2bc-5cb4-48bd-aa5f-be7887640f46"
      },
      "outputs": [
        {
          "name": "stdout",
          "output_type": "stream",
          "text": [
            "MAE: 309.33299999999997, R-squared: -0.4331627161684064\n"
          ]
        }
      ],
      "source": [
        "from sklearn.model_selection import train_test_split\n",
        "from sklearn.ensemble import RandomForestRegressor\n",
        "from sklearn.metrics import mean_absolute_error, r2_score\n",
        "\n",
        "# Select relevant features and target\n",
        "X = supply_chain_data[['Price', 'Stock levels', 'Lead time', 'Availability']]\n",
        "y = supply_chain_data['Number of products sold']\n",
        "\n",
        "# Split the data into train and test sets\n",
        "X_train, X_test, y_train, y_test = train_test_split(X, y, test_size=0.2, random_state=42)\n",
        "\n",
        "# Initialize and train the model\n",
        "model = RandomForestRegressor()\n",
        "model.fit(X_train, y_train)\n",
        "\n",
        "# Make predictions\n",
        "y_pred = model.predict(X_test)\n",
        "\n",
        "# Evaluate the model\n",
        "mae = mean_absolute_error(y_test, y_pred)\n",
        "r2 = r2_score(y_test, y_pred)\n",
        "\n",
        "print(f\"MAE: {mae}, R-squared: {r2}\")\n"
      ]
    },
    {
      "cell_type": "markdown",
      "metadata": {
        "id": "kr7RRSgwoaVh"
      },
      "source": [
        "Optimization (Inventory Levels Optimization)"
      ]
    },
    {
      "cell_type": "code",
      "execution_count": null,
      "metadata": {
        "colab": {
          "base_uri": "https://localhost:8080/"
        },
        "id": "xazi0O_zoPx6",
        "outputId": "cd769e1a-e2f0-4b57-9f82-cfc36cb87bad"
      },
      "outputs": [
        {
          "name": "stdout",
          "output_type": "stream",
          "text": [
            "Optimal EOQ: 960.1978962693055\n"
          ]
        }
      ],
      "source": [
        "import numpy as np\n",
        "\n",
        "# Define the parameters\n",
        "annual_demand = supply_chain_data['Number of products sold'].sum()\n",
        "ordering_cost = 100  # Example value, adjust as needed\n",
        "holding_cost = 10    # Example value, adjust as needed\n",
        "\n",
        "# Calculate EOQ\n",
        "EOQ = np.sqrt((2 * annual_demand * ordering_cost) / holding_cost)\n",
        "print(f\"Optimal EOQ: {EOQ}\")\n"
      ]
    },
    {
      "cell_type": "markdown",
      "metadata": {
        "id": "mM4DhzeaofSh"
      },
      "source": [
        "Segmentation"
      ]
    },
    {
      "cell_type": "code",
      "execution_count": null,
      "metadata": {
        "colab": {
          "base_uri": "https://localhost:8080/",
          "height": 527
        },
        "id": "9pImSla5olzO",
        "outputId": "fdba6692-7d5d-4615-8bbc-7a0ac55603ee"
      },
      "outputs": [
        {
          "name": "stderr",
          "output_type": "stream",
          "text": [
            "/usr/local/lib/python3.10/dist-packages/sklearn/cluster/_kmeans.py:1416: FutureWarning: The default value of `n_init` will change from 10 to 'auto' in 1.4. Set the value of `n_init` explicitly to suppress the warning\n",
            "  super()._check_params_vs_input(X, default_n_init=10)\n"
          ]
        },
        {
          "data": {
            "image/png": "[encoded data removed]",
            "text/plain": [
              "<Figure size 640x480 with 1 Axes>"
            ]
          },
          "metadata": {},
          "output_type": "display_data"
        }
      ],
      "source": [
        "from sklearn.cluster import KMeans\n",
        "import matplotlib.pyplot as plt\n",
        "\n",
        "# Select relevant features for segmentation\n",
        "X = supply_chain_data[['Supplier Performance', 'Cost to Revenue Ratio', 'Defect rates']]\n",
        "\n",
        "# Apply K-Means Clustering\n",
        "kmeans = KMeans(n_clusters=3, random_state=42)\n",
        "supply_chain_data['Segment'] = kmeans.fit_predict(X)\n",
        "\n",
        "# Plot the segmentation\n",
        "plt.scatter(X['Supplier Performance'], X['Cost to Revenue Ratio'], c=supply_chain_data['Segment'])\n",
        "plt.xlabel('Supplier Performance')\n",
        "plt.ylabel('Cost to Revenue Ratio')\n",
        "plt.title('Supplier Segmentation')\n",
        "plt.show()\n"
      ]
    }
  ],
  "metadata": {
    "colab": {
      "provenance": []
    },
    "kernelspec": {
      "display_name": "Python 3",
      "name": "python3"
    },
    "language_info": {
      "name": "python"
    }
  },
  "nbformat": 4,
  "nbformat_minor": 0
}
